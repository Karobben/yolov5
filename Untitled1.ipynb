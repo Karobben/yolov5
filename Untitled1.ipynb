{
 "cells": [
  {
   "cell_type": "code",
   "execution_count": 2,
   "id": "3c2e9b01",
   "metadata": {},
   "outputs": [],
   "source": [
    "File = \"fly_20210412-promE-V105005_29C6d.mp4_frame_1071_.png\""
   ]
  },
  {
   "cell_type": "code",
   "execution_count": 3,
   "id": "66b232aa",
   "metadata": {},
   "outputs": [],
   "source": [
    "import cv2\n",
    "import numpy as np\n",
    "from scipy.interpolate import UnivariateSpline"
   ]
  },
  {
   "cell_type": "code",
   "execution_count": 4,
   "id": "2c481a5b",
   "metadata": {},
   "outputs": [],
   "source": [
    "x, y = np.array([0, 100, 156, 255,]), np.array([0, 100, 230, 255])\n",
    "\n",
    "spl = UnivariateSpline(x, y)"
   ]
  },
  {
   "cell_type": "code",
   "execution_count": 6,
   "id": "1bb36424",
   "metadata": {},
   "outputs": [],
   "source": [
    "cv2.imshow('image',img)\n",
    "if cv2.waitKey(0) & 0xFF == ord('q'):\n",
    "    cv2.destroyAllWindows()"
   ]
  },
  {
   "cell_type": "code",
   "execution_count": 7,
   "id": "6f5d4554",
   "metadata": {},
   "outputs": [],
   "source": [
    "class WarmingFilter:\n",
    "\n",
    "  def __init__(self):\n",
    "    self.incr_ch_lut = _create_LUT_8UC1([0, 64, 128, 192, 256],\n",
    "      [0, 70, 140, 210, 256])\n",
    "    self.decr_ch_lut = _create_LUT_8UC1([0, 64, 128, 192, 256],\n",
    "      [0, 30,  80, 120, 192])\n",
    "\n",
    "    def render(self, img_rgb):\n",
    "        c_r, c_g, c_b = cv2.split(img_rgb)\n",
    "        c_r = cv2.LUT(c_r, self.incr_ch_lut).astype(np.uint8)\n",
    "        c_b = cv2.LUT(c_b, self.decr_ch_lut).astype(np.uint8)\n",
    "        img_rgb = cv2.merge((c_r, c_g, c_b))\n",
    "        c_b = cv2.LUT(c_b, decrChLUT).astype(np.uint8)\n",
    "\n",
    "    # increase color saturation\n",
    "    c_h, c_s, c_v = cv2.split(cv2.cvtColor(img_rgb,\n",
    "        cv2.COLOR_RGB2HSV))\n",
    "    c_s = cv2.LUT(c_s, self.incr_ch_lut).astype(np.uint8)\n",
    "    return cv2.cvtColor(cv2.merge((c_h, c_s, c_v)),\n",
    "        cv2.COLOR_HSV2RGB)\n"
   ]
  },
  {
   "cell_type": "code",
   "execution_count": 9,
   "id": "acb4bf37",
   "metadata": {},
   "outputs": [],
   "source": [
    "import numpy as np\n",
    "import os\n",
    "import cv2\n",
    "\n",
    "def noisy(noise_typ,image):\n",
    "  if noise_typ == \"gauss\":\n",
    "    row,col,ch= image.shape\n",
    "    mean = 0\n",
    "    var = 0.1\n",
    "    sigma = var**0.5\n",
    "    gauss = np.random.normal(mean,sigma,(row,col,ch))\n",
    "    gauss = gauss.reshape(row,col,ch)\n",
    "    noisy = image + gauss\n",
    "    return noisy\n",
    "  elif noise_typ == \"s&p\":\n",
    "    row,col,ch = image.shape\n",
    "    s_vs_p = 1\n",
    "    amount = 1\n",
    "    out = np.copy(image)\n",
    "    # Salt mode\n",
    "    num_salt = np.ceil(amount * image.size * s_vs_p)\n",
    "    coords = [np.random.randint(0, i - 1, int(num_salt))\n",
    "            for i in image.shape]\n",
    "    out[coords] = 1\n",
    "\n",
    "    # Pepper mode\n",
    "    num_pepper = np.ceil(amount* image.size * (1. - s_vs_p))\n",
    "    coords = [np.random.randint(0, i - 1, int(num_pepper))\n",
    "            for i in image.shape]\n",
    "    out[coords] = 0\n",
    "    return out\n",
    "  elif noise_typ == \"poisson\":\n",
    "      vals = len(np.unique(image))\n",
    "      vals = 2 ** np.ceil(np.log2(vals))\n",
    "      noisy = np.random.poisson(image * vals) / float(vals)\n",
    "      return noisy\n",
    "  elif noise_typ ==\"speckle\":\n",
    "      row,col,ch = image.shape\n",
    "      gauss = np.random.randn(row,col,ch)\n",
    "      gauss = gauss.reshape(row,col,ch)        \n",
    "      noisy = image + image * gauss\n",
    "      return noisy\n"
   ]
  },
  {
   "cell_type": "code",
   "execution_count": 12,
   "id": "52b1e396",
   "metadata": {},
   "outputs": [],
   "source": [
    "#img2 = sp_noise(img, 0.02)\n",
    "# img2 = img *0.0023 # darker\n",
    "img2 = img * 0.009"
   ]
  },
  {
   "cell_type": "code",
   "execution_count": 30,
   "id": "c114133f",
   "metadata": {},
   "outputs": [],
   "source": [
    "while(True):\n",
    "   cv2.imshow('image',img)\n",
    "   cv2.imshow('image2',added_image)\n",
    "   if cv2.waitKey(1) & 0xFF == ord('q'):\n",
    "       cv2.destroyAllWindows()\n",
    "       break"
   ]
  },
  {
   "cell_type": "code",
   "execution_count": 14,
   "id": "5430f3ef",
   "metadata": {},
   "outputs": [],
   "source": [
    "import numpy as np\n",
    "import random\n",
    "import cv2\n",
    "\n",
    "def sp_noise(image,prob):\n",
    "    '''\n",
    "    Add salt and pepper noise to image\n",
    "    prob: Probability of the noise\n",
    "    '''\n",
    "    output = np.zeros(image.shape,np.uint8)\n",
    "    thres = 1 - prob\n",
    "    for i in range(image.shape[0]):\n",
    "        for j in range(image.shape[1]):\n",
    "            rdn = random.random()\n",
    "            if rdn < prob:\n",
    "                output[i][j] = 0\n",
    "            elif rdn > thres:\n",
    "                output[i][j] = 255\n",
    "            else:\n",
    "                output[i][j] = image[i][j]\n",
    "    return output"
   ]
  },
  {
   "cell_type": "code",
   "execution_count": 77,
   "id": "d9ac70c7",
   "metadata": {},
   "outputs": [],
   "source": [
    "background = cv2.imread(\"png2/\" +File)\n",
    "overlay = cv2.imread('/mnt/8A26661926660713/Github/png_DB/BG/kalen-emsley-Bkci_8qcdvQ-unsplash.jpg')\n",
    "overlay = cv2.resize(overlay, (1920, 1080))\n",
    "added_image = cv2.addWeighted(background,1,overlay,0.15,10)"
   ]
  },
  {
   "cell_type": "code",
   "execution_count": null,
   "id": "a6da3a49",
   "metadata": {},
   "outputs": [],
   "source": []
  },
  {
   "cell_type": "code",
   "execution_count": 78,
   "id": "dfdb7b9b",
   "metadata": {},
   "outputs": [],
   "source": [
    "while(True):\n",
    "   cv2.imshow('image',img)\n",
    "   cv2.imshow('image2',added_image)\n",
    "   if cv2.waitKey(1) & 0xFF == ord('q'):\n",
    "       cv2.destroyAllWindows()\n",
    "       break"
   ]
  },
  {
   "cell_type": "code",
   "execution_count": 81,
   "id": "54b32398",
   "metadata": {},
   "outputs": [],
   "source": [
    "Raw_dir = \"/mnt/8A26661926660713/Github/png_DB/row_train_labeled/\"\n",
    "OUTPUT_dir = \"/mnt/8A26661926660713/Github/png_DB/png_argument/\"\n",
    "F_overlay = \"/mnt/8A26661926660713/Github/png_DB/BG/kalen-emsley-Bkci_8qcdvQ-unsplash.jpg\"\n",
    "List = os.popen(\"ls \" + Raw_dir + \"/*.png| sed 's/.png$//'\").read().split(\"\\n\")[:-1]\n"
   ]
  },
  {
   "cell_type": "code",
   "execution_count": 82,
   "id": "73779357",
   "metadata": {},
   "outputs": [
    {
     "ename": "AttributeError",
     "evalue": "'list' object has no attribute 'find'",
     "output_type": "error",
     "traceback": [
      "\u001b[0;31m---------------------------------------------------------------------------\u001b[0m",
      "\u001b[0;31mAttributeError\u001b[0m                            Traceback (most recent call last)",
      "\u001b[0;32m/tmp/ipykernel_6648/3212306200.py\u001b[0m in \u001b[0;36m<module>\u001b[0;34m\u001b[0m\n\u001b[0;32m----> 1\u001b[0;31m \u001b[0mList\u001b[0m\u001b[0;34m.\u001b[0m\u001b[0mfind\u001b[0m\u001b[0;34m(\u001b[0m\u001b[0;34m\"(\"\u001b[0m\u001b[0;34m)\u001b[0m\u001b[0;34m\u001b[0m\u001b[0;34m\u001b[0m\u001b[0m\n\u001b[0m",
      "\u001b[0;31mAttributeError\u001b[0m: 'list' object has no attribute 'find'"
     ]
    }
   ],
   "source": []
  },
  {
   "cell_type": "code",
   "execution_count": null,
   "id": "52bf0ff1",
   "metadata": {},
   "outputs": [],
   "source": []
  }
 ],
 "metadata": {
  "kernelspec": {
   "display_name": "Python 3 (ipykernel)",
   "language": "python",
   "name": "python3"
  },
  "language_info": {
   "codemirror_mode": {
    "name": "ipython",
    "version": 3
   },
   "file_extension": ".py",
   "mimetype": "text/x-python",
   "name": "python",
   "nbconvert_exporter": "python",
   "pygments_lexer": "ipython3",
   "version": "3.8.10"
  }
 },
 "nbformat": 4,
 "nbformat_minor": 5
}
