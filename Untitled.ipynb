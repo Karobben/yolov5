{
 "cells": [
  {
   "cell_type": "code",
   "execution_count": 31,
   "id": "60b7fba2",
   "metadata": {},
   "outputs": [],
   "source": [
    "import os, random\n",
    "List = os.popen(\"ls png/*|awk -F _frame_ '{print $1}'| sort|uniq\").read().split(\"\\n\")[:-1]\n",
    "\n",
    "i = List[0]\n",
    "\n",
    "Result = []\n",
    "for i in List:\n",
    "    CMD = \"ls \" + i + \"*.png\"\n",
    "    CMD = CMD.replace(\"(\", \"\\(\").replace(\")\",\"\\)\")\n",
    "    List_tmp = os.popen( CMD).read().split(\"\\n\")[:-1]\n",
    "    if len(List_tmp) > 10:\n",
    "        Result += random.sample(List_tmp, 10)\n",
    "    else:\n",
    "        Result += List_tmp"
   ]
  },
  {
   "cell_type": "code",
   "execution_count": 40,
   "id": "ea3b4f8b",
   "metadata": {},
   "outputs": [],
   "source": [
    "for i in Result:\n",
    "    i = i.replace(\"(\", \"\\(\").replace(\")\",\"\\)\")\n",
    "    os.system(\"cp \"+i + \" png2\")\n",
    "    os.system(\"cp \"+i.replace(\".png\",\".txt\") + \" png2\")"
   ]
  },
  {
   "cell_type": "code",
   "execution_count": 37,
   "id": "5881ecca",
   "metadata": {},
   "outputs": [
    {
     "data": {
      "text/plain": [
       "'png/fly_20210412-promE-V105005_29C6d.mp4_frame_1071_.txt'"
      ]
     },
     "execution_count": 37,
     "metadata": {},
     "output_type": "execute_result"
    }
   ],
   "source": [
    "Result[0].replace(\".png\", \".txt\")"
   ]
  },
  {
   "cell_type": "code",
   "execution_count": null,
   "id": "c5c5b5a4",
   "metadata": {},
   "outputs": [],
   "source": []
  }
 ],
 "metadata": {
  "kernelspec": {
   "display_name": "Python 3 (ipykernel)",
   "language": "python",
   "name": "python3"
  },
  "language_info": {
   "codemirror_mode": {
    "name": "ipython",
    "version": 3
   },
   "file_extension": ".py",
   "mimetype": "text/x-python",
   "name": "python",
   "nbconvert_exporter": "python",
   "pygments_lexer": "ipython3",
   "version": "3.8.10"
  }
 },
 "nbformat": 4,
 "nbformat_minor": 5
}
